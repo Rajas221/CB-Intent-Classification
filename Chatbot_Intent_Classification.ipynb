{
  "nbformat": 4,
  "nbformat_minor": 0,
  "metadata": {
    "colab": {
      "provenance": [],
      "gpuType": "T4"
    },
    "kernelspec": {
      "name": "python3",
      "display_name": "Python 3"
    },
    "language_info": {
      "name": "python"
    },
    "accelerator": "GPU",
    "widgets": {
      "application/vnd.jupyter.widget-state+json": {
        "42e41de91c074a8299bb4b2aba3730b3": {
          "model_module": "@jupyter-widgets/controls",
          "model_name": "HBoxModel",
          "model_module_version": "1.5.0",
          "state": {
            "_dom_classes": [],
            "_model_module": "@jupyter-widgets/controls",
            "_model_module_version": "1.5.0",
            "_model_name": "HBoxModel",
            "_view_count": null,
            "_view_module": "@jupyter-widgets/controls",
            "_view_module_version": "1.5.0",
            "_view_name": "HBoxView",
            "box_style": "",
            "children": [
              "IPY_MODEL_7351f8344e9d40a39d1a5805f580042e",
              "IPY_MODEL_90a5a453e8174e5d9379b84d32cf7938",
              "IPY_MODEL_fdb70fdd8f5a40ed8900fd2e12d2cad9"
            ],
            "layout": "IPY_MODEL_97e5b69e7b9b406688d01b20644c4128"
          }
        },
        "7351f8344e9d40a39d1a5805f580042e": {
          "model_module": "@jupyter-widgets/controls",
          "model_name": "HTMLModel",
          "model_module_version": "1.5.0",
          "state": {
            "_dom_classes": [],
            "_model_module": "@jupyter-widgets/controls",
            "_model_module_version": "1.5.0",
            "_model_name": "HTMLModel",
            "_view_count": null,
            "_view_module": "@jupyter-widgets/controls",
            "_view_module_version": "1.5.0",
            "_view_name": "HTMLView",
            "description": "",
            "description_tooltip": null,
            "layout": "IPY_MODEL_e26c28fc1dd948d9b891c36b5e055c4c",
            "placeholder": "​",
            "style": "IPY_MODEL_96db4348569148e48658247a01988fa8",
            "value": "Batches: 100%"
          }
        },
        "90a5a453e8174e5d9379b84d32cf7938": {
          "model_module": "@jupyter-widgets/controls",
          "model_name": "FloatProgressModel",
          "model_module_version": "1.5.0",
          "state": {
            "_dom_classes": [],
            "_model_module": "@jupyter-widgets/controls",
            "_model_module_version": "1.5.0",
            "_model_name": "FloatProgressModel",
            "_view_count": null,
            "_view_module": "@jupyter-widgets/controls",
            "_view_module_version": "1.5.0",
            "_view_name": "ProgressView",
            "bar_style": "success",
            "description": "",
            "description_tooltip": null,
            "layout": "IPY_MODEL_3dc93029c3c14fa99359823cae77f65b",
            "max": 238,
            "min": 0,
            "orientation": "horizontal",
            "style": "IPY_MODEL_056ba556f4234542b1050b1632aa822f",
            "value": 238
          }
        },
        "fdb70fdd8f5a40ed8900fd2e12d2cad9": {
          "model_module": "@jupyter-widgets/controls",
          "model_name": "HTMLModel",
          "model_module_version": "1.5.0",
          "state": {
            "_dom_classes": [],
            "_model_module": "@jupyter-widgets/controls",
            "_model_module_version": "1.5.0",
            "_model_name": "HTMLModel",
            "_view_count": null,
            "_view_module": "@jupyter-widgets/controls",
            "_view_module_version": "1.5.0",
            "_view_name": "HTMLView",
            "description": "",
            "description_tooltip": null,
            "layout": "IPY_MODEL_4adfdd62870442d2a4c4717667c186fc",
            "placeholder": "​",
            "style": "IPY_MODEL_26c83304839d4ae99d43933957ca0ed9",
            "value": " 238/238 [00:03&lt;00:00, 128.16it/s]"
          }
        },
        "97e5b69e7b9b406688d01b20644c4128": {
          "model_module": "@jupyter-widgets/base",
          "model_name": "LayoutModel",
          "model_module_version": "1.2.0",
          "state": {
            "_model_module": "@jupyter-widgets/base",
            "_model_module_version": "1.2.0",
            "_model_name": "LayoutModel",
            "_view_count": null,
            "_view_module": "@jupyter-widgets/base",
            "_view_module_version": "1.2.0",
            "_view_name": "LayoutView",
            "align_content": null,
            "align_items": null,
            "align_self": null,
            "border": null,
            "bottom": null,
            "display": null,
            "flex": null,
            "flex_flow": null,
            "grid_area": null,
            "grid_auto_columns": null,
            "grid_auto_flow": null,
            "grid_auto_rows": null,
            "grid_column": null,
            "grid_gap": null,
            "grid_row": null,
            "grid_template_areas": null,
            "grid_template_columns": null,
            "grid_template_rows": null,
            "height": null,
            "justify_content": null,
            "justify_items": null,
            "left": null,
            "margin": null,
            "max_height": null,
            "max_width": null,
            "min_height": null,
            "min_width": null,
            "object_fit": null,
            "object_position": null,
            "order": null,
            "overflow": null,
            "overflow_x": null,
            "overflow_y": null,
            "padding": null,
            "right": null,
            "top": null,
            "visibility": null,
            "width": null
          }
        },
        "e26c28fc1dd948d9b891c36b5e055c4c": {
          "model_module": "@jupyter-widgets/base",
          "model_name": "LayoutModel",
          "model_module_version": "1.2.0",
          "state": {
            "_model_module": "@jupyter-widgets/base",
            "_model_module_version": "1.2.0",
            "_model_name": "LayoutModel",
            "_view_count": null,
            "_view_module": "@jupyter-widgets/base",
            "_view_module_version": "1.2.0",
            "_view_name": "LayoutView",
            "align_content": null,
            "align_items": null,
            "align_self": null,
            "border": null,
            "bottom": null,
            "display": null,
            "flex": null,
            "flex_flow": null,
            "grid_area": null,
            "grid_auto_columns": null,
            "grid_auto_flow": null,
            "grid_auto_rows": null,
            "grid_column": null,
            "grid_gap": null,
            "grid_row": null,
            "grid_template_areas": null,
            "grid_template_columns": null,
            "grid_template_rows": null,
            "height": null,
            "justify_content": null,
            "justify_items": null,
            "left": null,
            "margin": null,
            "max_height": null,
            "max_width": null,
            "min_height": null,
            "min_width": null,
            "object_fit": null,
            "object_position": null,
            "order": null,
            "overflow": null,
            "overflow_x": null,
            "overflow_y": null,
            "padding": null,
            "right": null,
            "top": null,
            "visibility": null,
            "width": null
          }
        },
        "96db4348569148e48658247a01988fa8": {
          "model_module": "@jupyter-widgets/controls",
          "model_name": "DescriptionStyleModel",
          "model_module_version": "1.5.0",
          "state": {
            "_model_module": "@jupyter-widgets/controls",
            "_model_module_version": "1.5.0",
            "_model_name": "DescriptionStyleModel",
            "_view_count": null,
            "_view_module": "@jupyter-widgets/base",
            "_view_module_version": "1.2.0",
            "_view_name": "StyleView",
            "description_width": ""
          }
        },
        "3dc93029c3c14fa99359823cae77f65b": {
          "model_module": "@jupyter-widgets/base",
          "model_name": "LayoutModel",
          "model_module_version": "1.2.0",
          "state": {
            "_model_module": "@jupyter-widgets/base",
            "_model_module_version": "1.2.0",
            "_model_name": "LayoutModel",
            "_view_count": null,
            "_view_module": "@jupyter-widgets/base",
            "_view_module_version": "1.2.0",
            "_view_name": "LayoutView",
            "align_content": null,
            "align_items": null,
            "align_self": null,
            "border": null,
            "bottom": null,
            "display": null,
            "flex": null,
            "flex_flow": null,
            "grid_area": null,
            "grid_auto_columns": null,
            "grid_auto_flow": null,
            "grid_auto_rows": null,
            "grid_column": null,
            "grid_gap": null,
            "grid_row": null,
            "grid_template_areas": null,
            "grid_template_columns": null,
            "grid_template_rows": null,
            "height": null,
            "justify_content": null,
            "justify_items": null,
            "left": null,
            "margin": null,
            "max_height": null,
            "max_width": null,
            "min_height": null,
            "min_width": null,
            "object_fit": null,
            "object_position": null,
            "order": null,
            "overflow": null,
            "overflow_x": null,
            "overflow_y": null,
            "padding": null,
            "right": null,
            "top": null,
            "visibility": null,
            "width": null
          }
        },
        "056ba556f4234542b1050b1632aa822f": {
          "model_module": "@jupyter-widgets/controls",
          "model_name": "ProgressStyleModel",
          "model_module_version": "1.5.0",
          "state": {
            "_model_module": "@jupyter-widgets/controls",
            "_model_module_version": "1.5.0",
            "_model_name": "ProgressStyleModel",
            "_view_count": null,
            "_view_module": "@jupyter-widgets/base",
            "_view_module_version": "1.2.0",
            "_view_name": "StyleView",
            "bar_color": null,
            "description_width": ""
          }
        },
        "4adfdd62870442d2a4c4717667c186fc": {
          "model_module": "@jupyter-widgets/base",
          "model_name": "LayoutModel",
          "model_module_version": "1.2.0",
          "state": {
            "_model_module": "@jupyter-widgets/base",
            "_model_module_version": "1.2.0",
            "_model_name": "LayoutModel",
            "_view_count": null,
            "_view_module": "@jupyter-widgets/base",
            "_view_module_version": "1.2.0",
            "_view_name": "LayoutView",
            "align_content": null,
            "align_items": null,
            "align_self": null,
            "border": null,
            "bottom": null,
            "display": null,
            "flex": null,
            "flex_flow": null,
            "grid_area": null,
            "grid_auto_columns": null,
            "grid_auto_flow": null,
            "grid_auto_rows": null,
            "grid_column": null,
            "grid_gap": null,
            "grid_row": null,
            "grid_template_areas": null,
            "grid_template_columns": null,
            "grid_template_rows": null,
            "height": null,
            "justify_content": null,
            "justify_items": null,
            "left": null,
            "margin": null,
            "max_height": null,
            "max_width": null,
            "min_height": null,
            "min_width": null,
            "object_fit": null,
            "object_position": null,
            "order": null,
            "overflow": null,
            "overflow_x": null,
            "overflow_y": null,
            "padding": null,
            "right": null,
            "top": null,
            "visibility": null,
            "width": null
          }
        },
        "26c83304839d4ae99d43933957ca0ed9": {
          "model_module": "@jupyter-widgets/controls",
          "model_name": "DescriptionStyleModel",
          "model_module_version": "1.5.0",
          "state": {
            "_model_module": "@jupyter-widgets/controls",
            "_model_module_version": "1.5.0",
            "_model_name": "DescriptionStyleModel",
            "_view_count": null,
            "_view_module": "@jupyter-widgets/base",
            "_view_module_version": "1.2.0",
            "_view_name": "StyleView",
            "description_width": ""
          }
        }
      }
    }
  },
  "cells": [
    {
      "cell_type": "markdown",
      "source": [
        "AI Chatbot Intent Classification is the process of identifying the purpose or goal behind a user's input in a conversation with a chatbot. It is a key component of Natural Language Understanding (NLU) in AI-driven chatbots and virtual assistants. *Intent Classification is important as it improves chatbot accuracy, enables efficient routing and enhances user experience.*"
      ],
      "metadata": {
        "id": "EjB1Igf7fdXK"
      }
    },
    {
      "cell_type": "markdown",
      "source": [
        "Working\n",
        "*   User Input : User sends a message\n",
        "*   Intent Detection : Chatbot analyzes the text to determine user's intent\n",
        "*   Response Generation : Based on classified intent, chatbot provides an appropriate response"
      ],
      "metadata": {
        "id": "hz4ktlKufhpP"
      }
    },
    {
      "cell_type": "markdown",
      "source": [
        "Techniques for intent classification\n",
        "*   Rule-Based Matching ( Keyword pair, regex )\n",
        "*   ML Models (NB,SVM,Random Forest)\n",
        "*   Deep Learning and NLP Models (BERT,GPT,Transformer Based)\n",
        "*   Hybrid Approaches (Combining rules + ML for better accuracy)\n",
        "\n"
      ],
      "metadata": {
        "id": "DJm8gpfzf54_"
      }
    },
    {
      "source": [
        "import pandas as pd\n",
        "#Import Dataset from huggingface\n",
        "splits = {'train': 'small/train-00000-of-00001.parquet',\n",
        "          'validation': 'small/validation-00000-of-00001.parquet',\n",
        "          'test': 'small/test-00000-of-00001.parquet'}\n",
        "df = pd.read_parquet(\"hf://datasets/clinc/clinc_oos/\" + splits[\"train\"])"
      ],
      "cell_type": "code",
      "metadata": {
        "id": "v9Bg_7ua6LHG"
      },
      "execution_count": 2,
      "outputs": []
    },
    {
      "cell_type": "code",
      "source": [
        "df.columns"
      ],
      "metadata": {
        "colab": {
          "base_uri": "https://localhost:8080/"
        },
        "id": "N6CZDTsU7ABy",
        "outputId": "1f77a7e9-6366-45fa-b78b-d41fb454118a"
      },
      "execution_count": 3,
      "outputs": [
        {
          "output_type": "execute_result",
          "data": {
            "text/plain": [
              "Index(['text', 'intent'], dtype='object')"
            ]
          },
          "metadata": {},
          "execution_count": 3
        }
      ]
    },
    {
      "cell_type": "code",
      "source": [
        "print(df[\"intent\"].head())"
      ],
      "metadata": {
        "colab": {
          "base_uri": "https://localhost:8080/"
        },
        "id": "uzvVrWLU29Dl",
        "outputId": "67b12576-ca40-4cdf-82da-252ff42ee484"
      },
      "execution_count": 4,
      "outputs": [
        {
          "output_type": "stream",
          "name": "stdout",
          "text": [
            "0    108\n",
            "1    108\n",
            "2    108\n",
            "3    108\n",
            "4    108\n",
            "Name: intent, dtype: int64\n"
          ]
        }
      ]
    },
    {
      "cell_type": "code",
      "source": [
        "# If it's numeric, switch to string labels if available\n",
        "if isinstance(df[\"intent\"].iloc[0], int):\n",
        "    print(\"Intent column is numeric! Look for a string column like 'intent_label'.\")"
      ],
      "metadata": {
        "id": "-3xOujrp2_QX"
      },
      "execution_count": 5,
      "outputs": []
    },
    {
      "cell_type": "code",
      "source": [
        "#Extract training samples\n",
        "train_texts=df['text'].tolist() #User Queries\n",
        "train_labels=df['intent'].tolist() #Their corresponding intent names (as strings)"
      ],
      "metadata": {
        "id": "vU-cy2zC7nFx"
      },
      "execution_count": 6,
      "outputs": []
    },
    {
      "cell_type": "markdown",
      "source": [
        "##Intent Classification Model"
      ],
      "metadata": {
        "id": "xc0XEQ4x9f7l"
      }
    },
    {
      "cell_type": "code",
      "source": [
        "from sentence_transformers import SentenceTransformer\n",
        "from sklearn.linear_model import LogisticRegression\n",
        "from sklearn.preprocessing import LabelEncoder\n",
        "from sklearn.metrics import classification_report\n",
        "import pandas as pd"
      ],
      "metadata": {
        "id": "X1a4YT4K9iQ6"
      },
      "execution_count": 7,
      "outputs": []
    },
    {
      "cell_type": "code",
      "source": [
        "# Encode labels\n",
        "le = LabelEncoder()\n",
        "y_train = le.fit_transform(train_labels)"
      ],
      "metadata": {
        "id": "pR3ebCoK9zdi"
      },
      "execution_count": 8,
      "outputs": []
    },
    {
      "cell_type": "code",
      "source": [
        "# Load SBERT model\n",
        "sbert_model = SentenceTransformer('all-MiniLM-L6-v2')"
      ],
      "metadata": {
        "id": "mDx7_bnf91IB"
      },
      "execution_count": null,
      "outputs": []
    },
    {
      "cell_type": "code",
      "source": [
        "X_train = sbert_model.encode(train_texts, show_progress_bar=True)  # Convert text to embeddings"
      ],
      "metadata": {
        "colab": {
          "base_uri": "https://localhost:8080/",
          "height": 49,
          "referenced_widgets": [
            "42e41de91c074a8299bb4b2aba3730b3",
            "7351f8344e9d40a39d1a5805f580042e",
            "90a5a453e8174e5d9379b84d32cf7938",
            "fdb70fdd8f5a40ed8900fd2e12d2cad9",
            "97e5b69e7b9b406688d01b20644c4128",
            "e26c28fc1dd948d9b891c36b5e055c4c",
            "96db4348569148e48658247a01988fa8",
            "3dc93029c3c14fa99359823cae77f65b",
            "056ba556f4234542b1050b1632aa822f",
            "4adfdd62870442d2a4c4717667c186fc",
            "26c83304839d4ae99d43933957ca0ed9"
          ]
        },
        "id": "T4iPkSIF94mP",
        "outputId": "630aa58f-fd15-4239-af89-f3dbf8a9611b"
      },
      "execution_count": 10,
      "outputs": [
        {
          "output_type": "display_data",
          "data": {
            "text/plain": [
              "Batches:   0%|          | 0/238 [00:00<?, ?it/s]"
            ],
            "application/vnd.jupyter.widget-view+json": {
              "version_major": 2,
              "version_minor": 0,
              "model_id": "42e41de91c074a8299bb4b2aba3730b3"
            }
          },
          "metadata": {}
        }
      ]
    },
    {
      "cell_type": "code",
      "source": [
        "# Train classifier\n",
        "clf = LogisticRegression(max_iter=1000)\n",
        "clf.fit(X_train, y_train)"
      ],
      "metadata": {
        "id": "h0D8RUgT9_uP"
      },
      "execution_count": null,
      "outputs": []
    },
    {
      "cell_type": "code",
      "source": [
        "import pickle\n",
        "\n",
        "with open(\"intent_label_encoder.pkl\", \"wb\") as f:\n",
        "    pickle.dump(le, f)\n",
        "\n",
        "with open(\"intent_classifier.pkl\", \"wb\") as f:\n",
        "    pickle.dump(clf, f)"
      ],
      "metadata": {
        "id": "kWtSjWJu0yVW"
      },
      "execution_count": 12,
      "outputs": []
    },
    {
      "source": [
        "# Load validation set\n",
        "val_df = pd.read_parquet(\"hf://datasets/clinc/clinc_oos/small/validation-00000-of-00001.parquet\")\n",
        "val_texts = val_df[\"text\"].tolist()\n",
        "val_labels = val_df[\"intent\"].tolist()\n",
        "y_val = le.transform(val_labels)\n",
        "\n",
        "# Encode validation texts\n",
        "X_val = sbert_model.encode(val_texts, show_progress_bar=True)\n",
        "\n",
        "# Predict and evaluate\n",
        "y_pred = clf.predict(X_val)\n",
        "# Get the target names (original string labels) from the fitted LabelEncoder\n",
        "# Ensure target_names is a list of strings\n",
        "target_names = [str(c) for c in le.classes_.tolist()]\n",
        "print(classification_report(y_val, y_pred, target_names=target_names))"
      ],
      "cell_type": "code",
      "metadata": {
        "id": "D_mq9Ii3-ZCR"
      },
      "execution_count": null,
      "outputs": []
    },
    {
      "cell_type": "markdown",
      "source": [
        "##NLU Pipeline (Intent recognition + Entity Extraction )"
      ],
      "metadata": {
        "id": "5VblbVfO1PHr"
      }
    },
    {
      "cell_type": "markdown",
      "source": [
        "Goal is to build a NLU module that\n",
        "\n",
        "*   Accepts input\n",
        "*   Predicts intent using the model\n",
        "*   Extracts entities from text (names,date,location etc.)\n",
        "\n",
        "\n"
      ],
      "metadata": {
        "id": "Z3ScvCaP1W_t"
      }
    },
    {
      "cell_type": "code",
      "source": [
        "import pickle\n",
        "from sentence_transformers import SentenceTransformer\n",
        "\n",
        "# Load model and label encoder\n",
        "with open(\"intent_classifier.pkl\", \"rb\") as f:\n",
        "    clf = pickle.load(f)\n",
        "\n",
        "with open(\"intent_label_encoder.pkl\", \"rb\") as f:\n",
        "    le = pickle.load(f)\n",
        "\n",
        "# Load SBERT model\n",
        "sbert_model = SentenceTransformer('all-MiniLM-L6-v2')\n",
        "\n",
        "# Intent prediction function\n",
        "def predict_intent(user_input):\n",
        "    # Step 1: Convert text to embedding\n",
        "    embedding = sbert_model.encode([user_input])\n",
        "\n",
        "    # Step 2: Predict intent class\n",
        "    pred = clf.predict(embedding)[0]\n",
        "\n",
        "    # Step 3: Convert class ID to intent name\n",
        "    intent = le.inverse_transform([pred])[0]\n",
        "\n",
        "    # Step 4: Get prediction confidence\n",
        "    confidence = clf.predict_proba(embedding).max()\n",
        "\n",
        "    return intent, confidence"
      ],
      "metadata": {
        "id": "-X3HUdnr1kix"
      },
      "execution_count": 14,
      "outputs": []
    },
    {
      "cell_type": "code",
      "source": [
        "intent, confidence = predict_intent(\"I want to book a flight to New York on Monday\")\n",
        "print(f\"Intent: {intent} (Confidence: {confidence:.2f})\")"
      ],
      "metadata": {
        "colab": {
          "base_uri": "https://localhost:8080/"
        },
        "id": "NtIqMKcm2PpK",
        "outputId": "8ac546ed-fd1d-4377-8496-b4fea986d462"
      },
      "execution_count": 16,
      "outputs": [
        {
          "output_type": "stream",
          "name": "stdout",
          "text": [
            "Intent: 63 (Confidence: 0.58)\n"
          ]
        }
      ]
    },
    {
      "cell_type": "code",
      "source": [
        "#Using NER\n",
        "import spacy\n",
        "nlp = spacy.load(\"en_core_web_sm\")\n",
        "\n",
        "def extract_entities(text):\n",
        "    doc = nlp(text)\n",
        "    return [(ent.text, ent.label_) for ent in doc.ents]"
      ],
      "metadata": {
        "id": "FryHVIut5IxG"
      },
      "execution_count": 17,
      "outputs": []
    },
    {
      "cell_type": "code",
      "source": [
        "entities = extract_entities(\"I want to book a flight to New York on Monday\")\n",
        "print(entities)  # [('New York', 'GPE'), ('Monday', 'DATE')]"
      ],
      "metadata": {
        "colab": {
          "base_uri": "https://localhost:8080/"
        },
        "id": "h89iLyxo5eQ3",
        "outputId": "bd68bb14-3c6e-4b19-f038-5bd0d5069c36"
      },
      "execution_count": 18,
      "outputs": [
        {
          "output_type": "stream",
          "name": "stdout",
          "text": [
            "[('New York', 'GPE'), ('Monday', 'DATE')]\n"
          ]
        }
      ]
    }
  ]
}